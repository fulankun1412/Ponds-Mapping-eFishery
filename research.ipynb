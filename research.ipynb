{
 "cells": [
  {
   "cell_type": "code",
   "execution_count": 1,
   "metadata": {},
   "outputs": [],
   "source": [
    "from ultralytics import YOLO\n",
    "import cv2\n",
    "from collections import OrderedDict\n",
    "import numpy as np\n",
    "import yaml\n",
    "from google.cloud import vision\n",
    "from google.cloud.vision_v1 import types\n",
    "import os\n",
    "import math\n",
    "from map import getSatelliteImage\n",
    "\n",
    "os.environ['CLEARML_CONFIG_FILE'] = \"clearml.conf\"\n",
    "\n",
    "from clearml import Task, InputModel\n",
    "\n",
    "with open('config.yaml','r') as f:\n",
    "    configModel = yaml.safe_load(f)"
   ]
  },
  {
   "cell_type": "code",
   "execution_count": 2,
   "metadata": {},
   "outputs": [
    {
     "name": "stdout",
     "output_type": "stream",
     "text": [
      "ClearML Task: overwriting (reusing) task id=d214504e8ce94dce827da6e946d618ac\n",
      "2023-05-13 13:43:06,782 - clearml.Repository Detection - WARNING - Could not read Jupyter Notebook: No module named 'nbconvert'\n",
      "2023-05-13 13:43:06,808 - clearml.Task - INFO - Storing jupyter notebook directly as code\n",
      "ClearML results page: https://app.clear.ml/projects/8e9052522ad44137a215e9722d9ce3d8/experiments/d214504e8ce94dce827da6e946d618ac/output/log\n",
      "2023-05-13 13:43:24,601 - clearml.model - INFO - Selected model id: e2eb72b828bb476dbda009e94e27ab2d\n"
     ]
    }
   ],
   "source": [
    "task = Task.init(project_name=configModel[\"clearml-project-config\"][\"project-name\"], task_name=configModel[\"clearml-project-config\"][\"task-name\"],\n",
    "                 task_type=configModel[\"clearml-project-config\"][\"task-type\"], reuse_last_task_id=configModel[\"clearml-project-config\"][\"id\"])\n",
    "\n",
    "inputModel = InputModel(project=configModel[\"clearml-project-config\"][\"project-name\"], name=configModel[\"model-config\"][\"YOLO-model\"],\n",
    "                        only_published=configModel[\"model-config\"][\"published\"], tags=configModel[\"model-config\"][\"tags\"])\n",
    "\n",
    "task.connect(inputModel)\n",
    "pathToModel = inputModel.get_local_copy()\n",
    "\n",
    "model = YOLO(pathToModel)\n",
    "imgSize = configModel[\"model-config\"][\"image-size\"]"
   ]
  },
  {
   "cell_type": "code",
   "execution_count": 16,
   "metadata": {},
   "outputs": [
    {
     "name": "stdout",
     "output_type": "stream",
     "text": [
      "The tile coorindates are (209547, 136677)\n"
     ]
    },
    {
     "name": "stderr",
     "output_type": "stream",
     "text": [
      "\n"
     ]
    },
    {
     "name": "stdout",
     "output_type": "stream",
     "text": [
      "Image size (pix):  (2048, 2048)\n",
      "(2048, 2048, 3)\n",
      "<class 'method'>\n"
     ]
    },
    {
     "name": "stderr",
     "output_type": "stream",
     "text": [
      "0: 640x640 28 kolam-tambaks, 1123.0ms\n",
      "Speed: 3.6ms preprocess, 1123.0ms inference, 32.7ms postprocess per image at shape (1, 3, 640, 640)\n"
     ]
    },
    {
     "name": "stdout",
     "output_type": "stream",
     "text": [
      "2023-05-13 14:13:26,168 - clearml.Task - WARNING - Task d214504e8ce94dce827da6e946d618ac was reset! if state is consistent we shall terminate.\n",
      "2023-05-13 14:59:46,817 - clearml.Task - WARNING - ### TASK STOPPED - USER ABORTED - STATUS CHANGED ###\n"
     ]
    },
    {
     "ename": "",
     "evalue": "",
     "output_type": "error",
     "traceback": [
      "\u001b[1;31mThe Kernel crashed while executing code in the the current cell or a previous cell. Please review the code in the cell(s) to identify a possible cause of the failure. Click <a href='https://aka.ms/vscodeJupyterKernelCrash'>here</a> for more info. View Jupyter <a href='command:jupyter.viewOutput'>log</a> for further details."
     ]
    }
   ],
   "source": [
    "latitude = float(-7.675039)\n",
    "longitude = float(107.769191)\n",
    "zoomLevel = 18\n",
    "img, isError, messages, xy = getSatelliteImage(latitudes=latitude, longitudes=longitude, zoomLevel=zoomLevel)\n",
    "print(img.shape)\n",
    "print(type(xy))\n",
    "\n",
    "scalingH, scalingW = img.shape[0]/imgSize, img.shape[1]/imgSize\n",
    "data = cv2.resize(img, (imgSize, imgSize))\n",
    "\n",
    "results = model.predict(data, imgsz = imgSize,\n",
    "                        conf = configModel[\"model-config\"][\"conf\"], iou = configModel[\"model-config\"][\"iou\"],\n",
    "                        save = configModel[\"model-config\"][\"save-mode\"], save_conf = configModel[\"model-config\"][\"save-mode\"],\n",
    "                        save_crop = configModel[\"model-config\"][\"save-mode\"], save_txt = configModel[\"model-config\"][\"save-mode\"],\n",
    "                        device = configModel[\"model-config\"][\"device-mode\"],\n",
    "                        show_labels=True, show_conf=True)\n",
    "\n"
   ]
  },
  {
   "cell_type": "code",
   "execution_count": 10,
   "metadata": {},
   "outputs": [],
   "source": [
    "METERS_PER_PX = 156543.03392 * math.cos(latitude * math.pi / 180) / math.pow(2, zoomLevel)\n",
    "RATIO_PIXEL_TO_SQUARE_M = METERS_PER_PX * METERS_PER_PX\n",
    "AREA_METER_LIST = {}\n",
    "ORDER = 1\n",
    "for i in range(len(results)):\n",
    "    for j in range(len(results[i].masks)):\n",
    "        segmenPoly = results[i].masks[j].xy\n",
    "        \n",
    "        x1 = int(results[i].boxes[j].xyxy[0][0]*scalingW)\n",
    "        y1 = int(results[i].boxes[j].xyxy[0][1]*scalingH)\n",
    "        x2 = int(results[i].boxes[j].xyxy[0][2]*scalingW)\n",
    "        y2 = int(results[i].boxes[j].xyxy[0][3]*scalingH)\n",
    "\n",
    "        center_x = int((x1 + x2) / 2)\n",
    "        center_y = int((y1 + y2) / 2)\n",
    "\n",
    "        for x in segmenPoly:\n",
    "            for y in x:\n",
    "                y[0] = round(y[0]*scalingH)\n",
    "                y[1] = round(y[1]*scalingW)\n",
    "\n",
    "        pts = np.array(segmenPoly[0], np.int32)\n",
    "        pts = pts.reshape((-1, 1, 2))\n",
    "\n",
    "        img = cv2.polylines(img, [pts], True, (255, 0, 0), 2)\n",
    "        img = cv2.putText(img, f\"{ORDER}\", (center_x, center_y), cv2.FONT_HERSHEY_PLAIN, 3 , (255,255,255), 5)\n",
    "        areaPX = cv2.contourArea(pts)\n",
    "        areaM = (round(areaPX / RATIO_PIXEL_TO_SQUARE_M, 2))\n",
    "        AREA_METER_LIST.update({ORDER:areaM})\n",
    "        ORDER = ORDER + 1"
   ]
  },
  {
   "cell_type": "code",
   "execution_count": 11,
   "metadata": {},
   "outputs": [
    {
     "name": "stdout",
     "output_type": "stream",
     "text": [
      "{1: 26267.37, 2: 11282.12, 3: 14067.32, 4: 29209.6, 5: 12098.69, 6: 28689.96, 7: 14616.93, 8: 46678.82, 9: 34361.71, 10: 25293.76, 11: 27228.12, 12: 32527.28, 13: 29330.94, 14: 32084.73, 15: 5067.89, 16: 30200.33, 17: 6845.22, 18: 28895.53, 19: 5847.34, 20: 7212.1, 21: 46017.85, 22: 6338.43, 23: 13734.69, 24: 18724.06, 25: 8514.05, 26: 8796.71, 27: 8502.63, 28: 10041.56}\n"
     ]
    }
   ],
   "source": [
    "print(AREA_METER_LIST)"
   ]
  },
  {
   "cell_type": "code",
   "execution_count": 12,
   "metadata": {},
   "outputs": [],
   "source": [
    "while(1):\n",
    "    \n",
    "    cv2.imshow('image', cv2.resize(img, (1000, 1000)))\n",
    "    if cv2.waitKey(20) == ord('q'):\n",
    "        break\n",
    "         \n",
    "cv2.destroyAllWindows()"
   ]
  },
  {
   "cell_type": "code",
   "execution_count": 1,
   "metadata": {},
   "outputs": [
    {
     "name": "stdout",
     "output_type": "stream",
     "text": [
      "0 0 -29.441326758522983,-51.99833166599274\n",
      "403 Client Error: Forbidden for url: http://maps.google.com/maps/api/staticmap?center=-29.441326758522983%2C-51.99833166599274&zoom=18&size=622x568&maptype=satellite&sensor=false&scale=1\n"
     ]
    },
    {
     "ename": "AttributeError",
     "evalue": "'tuple' object has no attribute 'tb_frame'",
     "output_type": "error",
     "traceback": [
      "\u001b[1;31m---------------------------------------------------------------------------\u001b[0m",
      "\u001b[1;31mHTTPError\u001b[0m                                 Traceback (most recent call last)",
      "Cell \u001b[1;32mIn[1], line 85\u001b[0m, in \u001b[0;36mget_maps_image\u001b[1;34m(NW_lat_long, SE_lat_long, zoom)\u001b[0m\n\u001b[0;32m     84\u001b[0m     response \u001b[39m=\u001b[39m requests\u001b[39m.\u001b[39mget(url, params\u001b[39m=\u001b[39murlparams)\n\u001b[1;32m---> 85\u001b[0m     response\u001b[39m.\u001b[39;49mraise_for_status()\n\u001b[0;32m     86\u001b[0m \u001b[39mexcept\u001b[39;00m requests\u001b[39m.\u001b[39mexceptions\u001b[39m.\u001b[39mRequestException \u001b[39mas\u001b[39;00m e:\n",
      "File \u001b[1;32mc:\\Users\\afkaa\\Envs\\efisheryProject\\lib\\site-packages\\requests\\models.py:1021\u001b[0m, in \u001b[0;36mResponse.raise_for_status\u001b[1;34m(self)\u001b[0m\n\u001b[0;32m   1020\u001b[0m \u001b[39mif\u001b[39;00m http_error_msg:\n\u001b[1;32m-> 1021\u001b[0m     \u001b[39mraise\u001b[39;00m HTTPError(http_error_msg, response\u001b[39m=\u001b[39m\u001b[39mself\u001b[39m)\n",
      "\u001b[1;31mHTTPError\u001b[0m: 403 Client Error: Forbidden for url: http://maps.google.com/maps/api/staticmap?center=-29.441326758522983%2C-51.99833166599274&zoom=18&size=622x568&maptype=satellite&sensor=false&scale=1",
      "\nDuring handling of the above exception, another exception occurred:\n",
      "\u001b[1;31mSystemExit\u001b[0m                                Traceback (most recent call last)",
      "    \u001b[1;31m[... skipping hidden 1 frame]\u001b[0m\n",
      "Cell \u001b[1;32mIn[1], line 102\u001b[0m\n\u001b[0;32m    100\u001b[0m SE_lat_long \u001b[39m=\u001b[39m (\u001b[39m-\u001b[39m\u001b[39m29.45\u001b[39m\u001b[39m*\u001b[39mDEGREE, \u001b[39m-\u001b[39m\u001b[39m51.98\u001b[39m\u001b[39m*\u001b[39mDEGREE)\n\u001b[1;32m--> 102\u001b[0m result \u001b[39m=\u001b[39m get_maps_image(\n\u001b[0;32m    103\u001b[0m     NW_lat_long,\n\u001b[0;32m    104\u001b[0m     SE_lat_long,\n\u001b[0;32m    105\u001b[0m     zoom\u001b[39m=\u001b[39;49m\u001b[39m18\u001b[39;49m \u001b[39m# be careful not to get too many images!\u001b[39;49;00m\n\u001b[0;32m    106\u001b[0m )\n\u001b[0;32m    107\u001b[0m result\u001b[39m.\u001b[39mshow()\n",
      "Cell \u001b[1;32mIn[1], line 88\u001b[0m, in \u001b[0;36mget_maps_image\u001b[1;34m(NW_lat_long, SE_lat_long, zoom)\u001b[0m\n\u001b[0;32m     87\u001b[0m     \u001b[39mprint\u001b[39m(e)\n\u001b[1;32m---> 88\u001b[0m     sys\u001b[39m.\u001b[39;49mexit(\u001b[39m1\u001b[39;49m)\n\u001b[0;32m     90\u001b[0m im \u001b[39m=\u001b[39m Image\u001b[39m.\u001b[39mopen(BytesIO(response\u001b[39m.\u001b[39mcontent))                  \n",
      "\u001b[1;31mSystemExit\u001b[0m: 1",
      "\nDuring handling of the above exception, another exception occurred:\n",
      "\u001b[1;31mAttributeError\u001b[0m                            Traceback (most recent call last)",
      "    \u001b[1;31m[... skipping hidden 1 frame]\u001b[0m\n",
      "File \u001b[1;32mc:\\Users\\afkaa\\Envs\\efisheryProject\\lib\\site-packages\\IPython\\core\\interactiveshell.py:2095\u001b[0m, in \u001b[0;36mInteractiveShell.showtraceback\u001b[1;34m(self, exc_tuple, filename, tb_offset, exception_only, running_compiled_code)\u001b[0m\n\u001b[0;32m   2092\u001b[0m \u001b[39mif\u001b[39;00m exception_only:\n\u001b[0;32m   2093\u001b[0m     stb \u001b[39m=\u001b[39m [\u001b[39m'\u001b[39m\u001b[39mAn exception has occurred, use \u001b[39m\u001b[39m%\u001b[39m\u001b[39mtb to see \u001b[39m\u001b[39m'\u001b[39m\n\u001b[0;32m   2094\u001b[0m            \u001b[39m'\u001b[39m\u001b[39mthe full traceback.\u001b[39m\u001b[39m\\n\u001b[39;00m\u001b[39m'\u001b[39m]\n\u001b[1;32m-> 2095\u001b[0m     stb\u001b[39m.\u001b[39mextend(\u001b[39mself\u001b[39;49m\u001b[39m.\u001b[39;49mInteractiveTB\u001b[39m.\u001b[39;49mget_exception_only(etype,\n\u001b[0;32m   2096\u001b[0m                                                      value))\n\u001b[0;32m   2097\u001b[0m \u001b[39melse\u001b[39;00m:\n\u001b[0;32m   2098\u001b[0m     \u001b[39mtry\u001b[39;00m:\n\u001b[0;32m   2099\u001b[0m         \u001b[39m# Exception classes can customise their traceback - we\u001b[39;00m\n\u001b[0;32m   2100\u001b[0m         \u001b[39m# use this in IPython.parallel for exceptions occurring\u001b[39;00m\n\u001b[0;32m   2101\u001b[0m         \u001b[39m# in the engines. This should return a list of strings.\u001b[39;00m\n",
      "File \u001b[1;32mc:\\Users\\afkaa\\Envs\\efisheryProject\\lib\\site-packages\\IPython\\core\\ultratb.py:696\u001b[0m, in \u001b[0;36mListTB.get_exception_only\u001b[1;34m(self, etype, value)\u001b[0m\n\u001b[0;32m    688\u001b[0m \u001b[39mdef\u001b[39;00m \u001b[39mget_exception_only\u001b[39m(\u001b[39mself\u001b[39m, etype, value):\n\u001b[0;32m    689\u001b[0m \u001b[39m    \u001b[39m\u001b[39m\"\"\"Only print the exception type and message, without a traceback.\u001b[39;00m\n\u001b[0;32m    690\u001b[0m \n\u001b[0;32m    691\u001b[0m \u001b[39m    Parameters\u001b[39;00m\n\u001b[1;32m   (...)\u001b[0m\n\u001b[0;32m    694\u001b[0m \u001b[39m    value : exception value\u001b[39;00m\n\u001b[0;32m    695\u001b[0m \u001b[39m    \"\"\"\u001b[39;00m\n\u001b[1;32m--> 696\u001b[0m     \u001b[39mreturn\u001b[39;00m ListTB\u001b[39m.\u001b[39;49mstructured_traceback(\u001b[39mself\u001b[39;49m, etype, value)\n",
      "File \u001b[1;32mc:\\Users\\afkaa\\Envs\\efisheryProject\\lib\\site-packages\\IPython\\core\\ultratb.py:559\u001b[0m, in \u001b[0;36mListTB.structured_traceback\u001b[1;34m(self, etype, evalue, etb, tb_offset, context)\u001b[0m\n\u001b[0;32m    556\u001b[0m     chained_exc_ids\u001b[39m.\u001b[39madd(\u001b[39mid\u001b[39m(exception[\u001b[39m1\u001b[39m]))\n\u001b[0;32m    557\u001b[0m     chained_exceptions_tb_offset \u001b[39m=\u001b[39m \u001b[39m0\u001b[39m\n\u001b[0;32m    558\u001b[0m     out_list \u001b[39m=\u001b[39m (\n\u001b[1;32m--> 559\u001b[0m         \u001b[39mself\u001b[39;49m\u001b[39m.\u001b[39;49mstructured_traceback(\n\u001b[0;32m    560\u001b[0m             etype,\n\u001b[0;32m    561\u001b[0m             evalue,\n\u001b[0;32m    562\u001b[0m             (etb, chained_exc_ids),  \u001b[39m# type: ignore\u001b[39;49;00m\n\u001b[0;32m    563\u001b[0m             chained_exceptions_tb_offset,\n\u001b[0;32m    564\u001b[0m             context,\n\u001b[0;32m    565\u001b[0m         )\n\u001b[0;32m    566\u001b[0m         \u001b[39m+\u001b[39m chained_exception_message\n\u001b[0;32m    567\u001b[0m         \u001b[39m+\u001b[39m out_list)\n\u001b[0;32m    569\u001b[0m \u001b[39mreturn\u001b[39;00m out_list\n",
      "File \u001b[1;32mc:\\Users\\afkaa\\Envs\\efisheryProject\\lib\\site-packages\\IPython\\core\\ultratb.py:1396\u001b[0m, in \u001b[0;36mAutoFormattedTB.structured_traceback\u001b[1;34m(self, etype, evalue, etb, tb_offset, number_of_lines_of_context)\u001b[0m\n\u001b[0;32m   1394\u001b[0m \u001b[39melse\u001b[39;00m:\n\u001b[0;32m   1395\u001b[0m     \u001b[39mself\u001b[39m\u001b[39m.\u001b[39mtb \u001b[39m=\u001b[39m etb\n\u001b[1;32m-> 1396\u001b[0m \u001b[39mreturn\u001b[39;00m FormattedTB\u001b[39m.\u001b[39;49mstructured_traceback(\n\u001b[0;32m   1397\u001b[0m     \u001b[39mself\u001b[39;49m, etype, evalue, etb, tb_offset, number_of_lines_of_context\n\u001b[0;32m   1398\u001b[0m )\n",
      "File \u001b[1;32mc:\\Users\\afkaa\\Envs\\efisheryProject\\lib\\site-packages\\IPython\\core\\ultratb.py:1287\u001b[0m, in \u001b[0;36mFormattedTB.structured_traceback\u001b[1;34m(self, etype, value, tb, tb_offset, number_of_lines_of_context)\u001b[0m\n\u001b[0;32m   1284\u001b[0m mode \u001b[39m=\u001b[39m \u001b[39mself\u001b[39m\u001b[39m.\u001b[39mmode\n\u001b[0;32m   1285\u001b[0m \u001b[39mif\u001b[39;00m mode \u001b[39min\u001b[39;00m \u001b[39mself\u001b[39m\u001b[39m.\u001b[39mverbose_modes:\n\u001b[0;32m   1286\u001b[0m     \u001b[39m# Verbose modes need a full traceback\u001b[39;00m\n\u001b[1;32m-> 1287\u001b[0m     \u001b[39mreturn\u001b[39;00m VerboseTB\u001b[39m.\u001b[39;49mstructured_traceback(\n\u001b[0;32m   1288\u001b[0m         \u001b[39mself\u001b[39;49m, etype, value, tb, tb_offset, number_of_lines_of_context\n\u001b[0;32m   1289\u001b[0m     )\n\u001b[0;32m   1290\u001b[0m \u001b[39melif\u001b[39;00m mode \u001b[39m==\u001b[39m \u001b[39m'\u001b[39m\u001b[39mMinimal\u001b[39m\u001b[39m'\u001b[39m:\n\u001b[0;32m   1291\u001b[0m     \u001b[39mreturn\u001b[39;00m ListTB\u001b[39m.\u001b[39mget_exception_only(\u001b[39mself\u001b[39m, etype, value)\n",
      "File \u001b[1;32mc:\\Users\\afkaa\\Envs\\efisheryProject\\lib\\site-packages\\IPython\\core\\ultratb.py:1140\u001b[0m, in \u001b[0;36mVerboseTB.structured_traceback\u001b[1;34m(self, etype, evalue, etb, tb_offset, number_of_lines_of_context)\u001b[0m\n\u001b[0;32m   1131\u001b[0m \u001b[39mdef\u001b[39;00m \u001b[39mstructured_traceback\u001b[39m(\n\u001b[0;32m   1132\u001b[0m     \u001b[39mself\u001b[39m,\n\u001b[0;32m   1133\u001b[0m     etype: \u001b[39mtype\u001b[39m,\n\u001b[1;32m   (...)\u001b[0m\n\u001b[0;32m   1137\u001b[0m     number_of_lines_of_context: \u001b[39mint\u001b[39m \u001b[39m=\u001b[39m \u001b[39m5\u001b[39m,\n\u001b[0;32m   1138\u001b[0m ):\n\u001b[0;32m   1139\u001b[0m \u001b[39m    \u001b[39m\u001b[39m\"\"\"Return a nice text document describing the traceback.\"\"\"\u001b[39;00m\n\u001b[1;32m-> 1140\u001b[0m     formatted_exception \u001b[39m=\u001b[39m \u001b[39mself\u001b[39;49m\u001b[39m.\u001b[39;49mformat_exception_as_a_whole(etype, evalue, etb, number_of_lines_of_context,\n\u001b[0;32m   1141\u001b[0m                                                            tb_offset)\n\u001b[0;32m   1143\u001b[0m     colors \u001b[39m=\u001b[39m \u001b[39mself\u001b[39m\u001b[39m.\u001b[39mColors  \u001b[39m# just a shorthand + quicker name lookup\u001b[39;00m\n\u001b[0;32m   1144\u001b[0m     colorsnormal \u001b[39m=\u001b[39m colors\u001b[39m.\u001b[39mNormal  \u001b[39m# used a lot\u001b[39;00m\n",
      "File \u001b[1;32mc:\\Users\\afkaa\\Envs\\efisheryProject\\lib\\site-packages\\IPython\\core\\ultratb.py:1030\u001b[0m, in \u001b[0;36mVerboseTB.format_exception_as_a_whole\u001b[1;34m(self, etype, evalue, etb, number_of_lines_of_context, tb_offset)\u001b[0m\n\u001b[0;32m   1027\u001b[0m \u001b[39massert\u001b[39;00m \u001b[39misinstance\u001b[39m(tb_offset, \u001b[39mint\u001b[39m)\n\u001b[0;32m   1028\u001b[0m head \u001b[39m=\u001b[39m \u001b[39mself\u001b[39m\u001b[39m.\u001b[39mprepare_header(\u001b[39mstr\u001b[39m(etype), \u001b[39mself\u001b[39m\u001b[39m.\u001b[39mlong_header)\n\u001b[0;32m   1029\u001b[0m records \u001b[39m=\u001b[39m (\n\u001b[1;32m-> 1030\u001b[0m     \u001b[39mself\u001b[39;49m\u001b[39m.\u001b[39;49mget_records(etb, number_of_lines_of_context, tb_offset) \u001b[39mif\u001b[39;00m etb \u001b[39melse\u001b[39;00m []\n\u001b[0;32m   1031\u001b[0m )\n\u001b[0;32m   1033\u001b[0m frames \u001b[39m=\u001b[39m []\n\u001b[0;32m   1034\u001b[0m skipped \u001b[39m=\u001b[39m \u001b[39m0\u001b[39m\n",
      "File \u001b[1;32mc:\\Users\\afkaa\\Envs\\efisheryProject\\lib\\site-packages\\IPython\\core\\ultratb.py:1098\u001b[0m, in \u001b[0;36mVerboseTB.get_records\u001b[1;34m(self, etb, number_of_lines_of_context, tb_offset)\u001b[0m\n\u001b[0;32m   1096\u001b[0m \u001b[39mwhile\u001b[39;00m cf \u001b[39mis\u001b[39;00m \u001b[39mnot\u001b[39;00m \u001b[39mNone\u001b[39;00m:\n\u001b[0;32m   1097\u001b[0m     \u001b[39mtry\u001b[39;00m:\n\u001b[1;32m-> 1098\u001b[0m         mod \u001b[39m=\u001b[39m inspect\u001b[39m.\u001b[39mgetmodule(cf\u001b[39m.\u001b[39;49mtb_frame)\n\u001b[0;32m   1099\u001b[0m         \u001b[39mif\u001b[39;00m mod \u001b[39mis\u001b[39;00m \u001b[39mnot\u001b[39;00m \u001b[39mNone\u001b[39;00m:\n\u001b[0;32m   1100\u001b[0m             mod_name \u001b[39m=\u001b[39m mod\u001b[39m.\u001b[39m\u001b[39m__name__\u001b[39m\n",
      "\u001b[1;31mAttributeError\u001b[0m: 'tuple' object has no attribute 'tb_frame'"
     ]
    }
   ],
   "source": [
    "import requests\n",
    "from io import BytesIO\n",
    "from math import log, exp, tan, atan, ceil\n",
    "from PIL import Image\n",
    "import sys\n",
    "\n",
    "# circumference/radius\n",
    "tau = 6.283185307179586\n",
    "# One degree in radians, i.e. in the units the machine uses to store angle,\n",
    "# which is always radians. For converting to and from degrees. See code for\n",
    "# usage demonstration.\n",
    "DEGREE = tau/360\n",
    "\n",
    "ZOOM_OFFSET = 8\n",
    "GOOGLE_MAPS_API_KEY = None  # set to 'your_API_key'\n",
    "\n",
    "# Max width or height of a single image grabbed from Google.\n",
    "MAXSIZE = 640\n",
    "# For cutting off the logos at the bottom of each of the grabbed images.  The\n",
    "# logo height in pixels is assumed to be less than this amount.\n",
    "LOGO_CUTOFF = 32\n",
    "\n",
    "\n",
    "def latlon2pixels(lat, lon, zoom):\n",
    "    mx = lon\n",
    "    my = log(tan((lat + tau/4)/2))\n",
    "    res = 2**(zoom + ZOOM_OFFSET) / tau\n",
    "    px = mx*res\n",
    "    py = my*res\n",
    "    return px, py\n",
    "\n",
    "def pixels2latlon(px, py, zoom):\n",
    "    res = 2**(zoom + ZOOM_OFFSET) / tau\n",
    "    mx = px/res\n",
    "    my = py/res\n",
    "    lon = mx\n",
    "    lat = 2*atan(exp(my)) - tau/4\n",
    "    return lat, lon\n",
    "\n",
    "\n",
    "def get_maps_image(NW_lat_long, SE_lat_long, zoom=18):\n",
    "\n",
    "    ullat, ullon = NW_lat_long\n",
    "    lrlat, lrlon = SE_lat_long\n",
    "\n",
    "    # convert all these coordinates to pixels\n",
    "    ulx, uly = latlon2pixels(ullat, ullon, zoom)\n",
    "    lrx, lry = latlon2pixels(lrlat, lrlon, zoom)\n",
    "\n",
    "    # calculate total pixel dimensions of final image\n",
    "    dx, dy = lrx - ulx, uly - lry\n",
    "\n",
    "    # calculate rows and columns\n",
    "    cols, rows = ceil(dx/MAXSIZE), ceil(dy/MAXSIZE)\n",
    "\n",
    "    # calculate pixel dimensions of each small image\n",
    "    width = ceil(dx/cols)\n",
    "    height = ceil(dy/rows)\n",
    "    heightplus = height + LOGO_CUTOFF\n",
    "\n",
    "    # assemble the image from stitched\n",
    "    final = Image.new('RGB', (int(dx), int(dy)))\n",
    "    for x in range(cols):\n",
    "        for y in range(rows):\n",
    "            dxn = width * (0.5 + x)\n",
    "            dyn = height * (0.5 + y)\n",
    "            latn, lonn = pixels2latlon(\n",
    "                    ulx + dxn, uly - dyn - LOGO_CUTOFF/2, zoom)\n",
    "            position = ','.join((str(latn/DEGREE), str(lonn/DEGREE)))\n",
    "            print(x, y, position)\n",
    "            urlparams = {\n",
    "                    'center': position,\n",
    "                    'zoom': str(zoom),\n",
    "                    'size': '%dx%d' % (width, heightplus),\n",
    "                    'maptype': 'satellite',\n",
    "                    'sensor': 'false',\n",
    "                    'scale': 1\n",
    "                }\n",
    "            if GOOGLE_MAPS_API_KEY is not None:\n",
    "                urlparams['key'] = GOOGLE_MAPS_API_KEY\n",
    "\n",
    "            url = 'http://maps.google.com/maps/api/staticmap'\n",
    "            try:                  \n",
    "                response = requests.get(url, params=urlparams)\n",
    "                response.raise_for_status()\n",
    "            except requests.exceptions.RequestException as e:\n",
    "                print(e)\n",
    "                sys.exit(1)\n",
    "\n",
    "            im = Image.open(BytesIO(response.content))                  \n",
    "            final.paste(im, (int(x*width), int(y*height)))\n",
    "\n",
    "    return final\n",
    "\n",
    "############################################\n",
    "\n",
    "if __name__ == '__main__':\n",
    "    # a neighbourhood in Lajeado, Brazil:\n",
    "    NW_lat_long =  (-29.44*DEGREE, -52.0*DEGREE)\n",
    "    SE_lat_long = (-29.45*DEGREE, -51.98*DEGREE)\n",
    "\n",
    "    result = get_maps_image(\n",
    "        NW_lat_long,\n",
    "        SE_lat_long,\n",
    "        zoom=18 # be careful not to get too many images!\n",
    "    )\n",
    "    result.show()"
   ]
  },
  {
   "cell_type": "code",
   "execution_count": null,
   "metadata": {},
   "outputs": [],
   "source": []
  }
 ],
 "metadata": {
  "kernelspec": {
   "display_name": "pondsEfishery",
   "language": "python",
   "name": "python3"
  },
  "language_info": {
   "codemirror_mode": {
    "name": "ipython",
    "version": 3
   },
   "file_extension": ".py",
   "mimetype": "text/x-python",
   "name": "python",
   "nbconvert_exporter": "python",
   "pygments_lexer": "ipython3",
   "version": "3.9.13"
  },
  "orig_nbformat": 4,
  "vscode": {
   "interpreter": {
    "hash": "adac89f94b6bd2d19875852d38c6438c6c382608beb13500ad6c9224ea924fc0"
   }
  }
 },
 "nbformat": 4,
 "nbformat_minor": 2
}
